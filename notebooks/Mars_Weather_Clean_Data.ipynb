{
 "cells": [
  {
   "cell_type": "code",
   "execution_count": null,
   "id": "0b4fe4a9",
   "metadata": {},
   "outputs": [],
   "source": [
    "import numpy as np\n",
    "import pandas as pd\n",
    "import plotly.express as px\n",
    "import seaborn as sns"
   ]
  },
  {
   "cell_type": "markdown",
   "id": "2299cecc",
   "metadata": {},
   "source": [
    "### Load Data"
   ]
  },
  {
   "cell_type": "code",
   "execution_count": null,
   "id": "09e98d43",
   "metadata": {},
   "outputs": [],
   "source": [
    "mars_weather_df = pd.read_csv(\"../local_datasets/mars_weather_data.csv\")"
   ]
  },
  {
   "cell_type": "markdown",
   "id": "72b88865",
   "metadata": {},
   "source": [
    "### Clean Data"
   ]
  },
  {
   "cell_type": "code",
   "execution_count": null,
   "id": "2d6a50ee",
   "metadata": {},
   "outputs": [],
   "source": [
    "mars_weather_df.replace(\"--\", np.nan, inplace=True)"
   ]
  },
  {
   "cell_type": "code",
   "execution_count": null,
   "id": "d4ddf525",
   "metadata": {},
   "outputs": [],
   "source": [
    "mars_weather_df.head()"
   ]
  },
  {
   "cell_type": "code",
   "execution_count": null,
   "id": "e6656d2e",
   "metadata": {},
   "outputs": [],
   "source": [
    "mars_weather_df.dropna(inplace=True, subset=[\"min_temp\", \"max_temp\", \"pressure\", \"min_gts_temp\", \"max_gts_temp\"])"
   ]
  },
  {
   "cell_type": "code",
   "execution_count": null,
   "id": "b6e694b6",
   "metadata": {},
   "outputs": [],
   "source": [
    "print(mars_weather_df.shape)"
   ]
  },
  {
   "cell_type": "code",
   "execution_count": null,
   "id": "52f980bc",
   "metadata": {},
   "outputs": [],
   "source": [
    "mars_weather_df.isnull().sum(axis=0)"
   ]
  },
  {
   "cell_type": "code",
   "execution_count": null,
   "id": "a812d113",
   "metadata": {},
   "outputs": [],
   "source": [
    "mars_weather_df[[\"min_temp\", \"max_temp\", \"pressure\", \"min_gts_temp\", \"max_gts_temp\"]] = mars_weather_df[[\"min_temp\", \"max_temp\", \"pressure\", \"min_gts_temp\", \"max_gts_temp\"]].apply(pd.to_numeric)"
   ]
  },
  {
   "cell_type": "code",
   "execution_count": null,
   "id": "05afceec",
   "metadata": {},
   "outputs": [],
   "source": [
    "mars_weather_df.info()"
   ]
  },
  {
   "cell_type": "markdown",
   "id": "5f5350f8",
   "metadata": {},
   "source": [
    "### Plot Cleaned Data"
   ]
  },
  {
   "cell_type": "code",
   "execution_count": null,
   "id": "159c9d3b",
   "metadata": {},
   "outputs": [],
   "source": [
    "mars_weather_df_cleaned = pd.read_csv(\"../local_datasets/mars_weather_data_cleaned.csv\")"
   ]
  },
  {
   "cell_type": "code",
   "execution_count": null,
   "id": "2b521278",
   "metadata": {},
   "outputs": [],
   "source": [
    "mars_weather_df_cleaned.head()"
   ]
  },
  {
   "cell_type": "code",
   "execution_count": null,
   "id": "9c9fe2d4",
   "metadata": {},
   "outputs": [],
   "source": [
    "mars_weather_df_cleaned.max_temp.plot()"
   ]
  },
  {
   "cell_type": "code",
   "execution_count": null,
   "id": "40765fb7",
   "metadata": {},
   "outputs": [],
   "source": [
    "fig = px.line(mars_weather_df_cleaned, \n",
    "              x=\"terrestrial_date\", \n",
    "              y=[\"min_temp\", \"max_temp\"], \n",
    "              labels= {\n",
    "                  \"terrestrial_date\": \"Date\",\n",
    "                  \"value\": \"Temperature\"\n",
    "              }\n",
    "             )\n",
    "\n",
    "fig.show()"
   ]
  },
  {
   "cell_type": "code",
   "execution_count": null,
   "id": "dacb8272",
   "metadata": {},
   "outputs": [],
   "source": [
    "fig = px.scatter(mars_weather_df_cleaned, \n",
    "              x=\"terrestrial_date\", \n",
    "              y=[\"min_temp\", \"max_temp\"], \n",
    "              labels= {\n",
    "                  \"terrestrial_date\": \"Date\",\n",
    "                  \"value\": \"Temperature\"\n",
    "              },\n",
    "              color=\"pressure\"\n",
    "             )\n",
    "\n",
    "fig.show()"
   ]
  },
  {
   "cell_type": "code",
   "execution_count": null,
   "id": "50621841",
   "metadata": {},
   "outputs": [],
   "source": []
  }
 ],
 "metadata": {
  "kernelspec": {
   "display_name": "Python 3",
   "language": "python",
   "name": "python3"
  },
  "language_info": {
   "codemirror_mode": {
    "name": "ipython",
    "version": 3
   },
   "file_extension": ".py",
   "mimetype": "text/x-python",
   "name": "python",
   "nbconvert_exporter": "python",
   "pygments_lexer": "ipython3",
   "version": "3.7.1"
  }
 },
 "nbformat": 4,
 "nbformat_minor": 5
}

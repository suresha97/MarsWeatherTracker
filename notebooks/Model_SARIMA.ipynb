{
 "cells": [
  {
   "cell_type": "code",
   "execution_count": null,
   "id": "916378e3",
   "metadata": {},
   "outputs": [],
   "source": [
    "import numpy as np \n",
    "import pandas as pd\n",
    "import matplotlib.pyplot as plt\n",
    "import plotly.express as px\n",
    "import seaborn as sns\n",
    "from datetime import datetime, timedelta\n",
    "plt.style.use('seaborn-poster') \n",
    "\n",
    "import warnings\n",
    "warnings.simplefilter(action='ignore', category=FutureWarning)"
   ]
  },
  {
   "cell_type": "code",
   "execution_count": null,
   "id": "ab0367bc",
   "metadata": {},
   "outputs": [],
   "source": [
    "mars_weather_df = pd.read_csv(\"../local_datasets/mars_weather_data_cleaned.csv\")"
   ]
  },
  {
   "cell_type": "code",
   "execution_count": null,
   "id": "820a9aa0",
   "metadata": {},
   "outputs": [],
   "source": [
    "mars_weather_df.columns"
   ]
  },
  {
   "cell_type": "code",
   "execution_count": null,
   "id": "760a8368",
   "metadata": {},
   "outputs": [],
   "source": [
    "mars_weather_df = mars_weather_df[\n",
    "    [\"terrestrial_date\", \"sol\", \"min_temp\", \"max_temp\", \"pressure\", \"min_gts_temp\", \"max_gts_temp\"]\n",
    "]"
   ]
  },
  {
   "cell_type": "code",
   "execution_count": null,
   "id": "db7c28a2",
   "metadata": {},
   "outputs": [],
   "source": [
    "print(mars_weather_df.shape)\n",
    "mars_weather_df.head()"
   ]
  },
  {
   "cell_type": "code",
   "execution_count": null,
   "id": "f8b30769",
   "metadata": {},
   "outputs": [],
   "source": [
    "mars_weather_df.isnull().sum(axis=0)"
   ]
  },
  {
   "cell_type": "code",
   "execution_count": null,
   "id": "083ffcb2",
   "metadata": {},
   "outputs": [],
   "source": [
    "mars_weather_df = mars_weather_df[\n",
    "    (mars_weather_df.terrestrial_date > \"2013-06-01\") & (mars_weather_df.terrestrial_date < \"2018-06-01\")\n",
    "]"
   ]
  },
  {
   "cell_type": "code",
   "execution_count": null,
   "id": "30f43c67",
   "metadata": {},
   "outputs": [],
   "source": [
    "mars_weather_df.terrestrial_date.min(), mars_weather_df.terrestrial_date.max()"
   ]
  },
  {
   "cell_type": "markdown",
   "id": "96dd6808",
   "metadata": {},
   "source": [
    "## Ensure data is ordered by time and equidistant with respect to time"
   ]
  },
  {
   "cell_type": "code",
   "execution_count": null,
   "id": "9db30509",
   "metadata": {},
   "outputs": [],
   "source": [
    "mars_weather_df.terrestrial_date = pd.to_datetime(mars_weather_df.terrestrial_date)\n",
    "mars_weather_df.sort_values(\"terrestrial_date\", inplace=True)\n",
    "diff = mars_weather_df.terrestrial_date - mars_weather_df.terrestrial_date.shift(1)\n",
    "diff.value_counts()"
   ]
  },
  {
   "cell_type": "markdown",
   "id": "cfaef389",
   "metadata": {},
   "source": [
    "## Visualisations"
   ]
  },
  {
   "cell_type": "code",
   "execution_count": null,
   "id": "ecba92cf",
   "metadata": {},
   "outputs": [],
   "source": [
    "def plot_weather_df(weather_df): \n",
    "    time_earth = weather_df.terrestrial_date\n",
    "    time_mars = weather_df.sol\n",
    "    \n",
    "    plt.figure(figsize=(20, 7))\n",
    "    sns.lineplot(time_earth, weather_df.min_temp, label=\"min air temp\")\n",
    "    sns.lineplot(time_earth, weather_df.max_temp, label=\"max air temp\")\n",
    "    plt.ylabel(\"temperature\")\n",
    "    plt.show()\n",
    "    \n",
    "    plt.figure(figsize=(20, 7))\n",
    "    sns.lineplot(time_earth, weather_df.min_gts_temp, label=\"max ground temp\")\n",
    "    sns.lineplot(time_earth, weather_df.max_gts_temp, label=\"min ground temp\")\n",
    "    plt.ylabel(\"temperature\")\n",
    "    plt.show()\n",
    "    \n",
    "    plt.figure(figsize=(20, 7))\n",
    "    sns.lineplot(time_earth, weather_df.pressure)\n",
    "    plt.show()"
   ]
  },
  {
   "cell_type": "code",
   "execution_count": null,
   "id": "b8ac9fde",
   "metadata": {},
   "outputs": [],
   "source": [
    "plot_weather_df(mars_weather_df)"
   ]
  },
  {
   "cell_type": "code",
   "execution_count": null,
   "id": "42445b37",
   "metadata": {
    "scrolled": true
   },
   "outputs": [],
   "source": [
    "mars_weather_df_sample = mars_weather_df[(mars_weather_df.terrestrial_date <= \"2015-10-01\" )]\n",
    "plot_weather_df(mars_weather_df_sample)"
   ]
  },
  {
   "cell_type": "markdown",
   "id": "ab01d35d",
   "metadata": {},
   "source": [
    "## Downsample to more easily trends in the data"
   ]
  },
  {
   "cell_type": "code",
   "execution_count": null,
   "id": "dfef3d50",
   "metadata": {},
   "outputs": [],
   "source": [
    "weekly_resample_df = mars_weather_df.resample(\"7D\", on=\"terrestrial_date\").mean().reset_index(drop=False)\n",
    "monthly_resample_df = mars_weather_df.resample(\"1M\", on=\"terrestrial_date\").mean().reset_index(drop=False)"
   ]
  },
  {
   "cell_type": "code",
   "execution_count": null,
   "id": "92beedb5",
   "metadata": {},
   "outputs": [],
   "source": [
    "plot_weather_df(weekly_resample_df)"
   ]
  },
  {
   "cell_type": "code",
   "execution_count": null,
   "id": "bf209720",
   "metadata": {},
   "outputs": [],
   "source": [
    "plot_weather_df(monthly_resample_df)"
   ]
  },
  {
   "cell_type": "markdown",
   "id": "37daea1e",
   "metadata": {},
   "source": [
    "## Time Series Decomposition: \n",
    "- Decompose into level, trend, seasonality and noise."
   ]
  },
  {
   "cell_type": "code",
   "execution_count": null,
   "id": "0e8fc777",
   "metadata": {},
   "outputs": [],
   "source": [
    "from statsmodels.tsa.seasonal import seasonal_decompose"
   ]
  },
  {
   "cell_type": "code",
   "execution_count": null,
   "id": "006b4970",
   "metadata": {},
   "outputs": [],
   "source": [
    "def plot_signal_decomposition(df, column_name): \n",
    "    time_earth = df.terrestrial_date\n",
    "    decomp = seasonal_decompose(df[column_name], period=52, model=\"additive\", extrapolate_trend=\"freq\")\n",
    "\n",
    "    for quantity in [df[column_name], decomp.trend, decomp.seasonal, decomp.resid]: \n",
    "        plt.figure(figsize=(20, 7))\n",
    "        sns.lineplot(time_earth, quantity)\n",
    "        plt.show()"
   ]
  },
  {
   "cell_type": "code",
   "execution_count": null,
   "id": "ffeee342",
   "metadata": {},
   "outputs": [],
   "source": [
    "mars_weather_df.terrestrial_date.min(), mars_weather_df.terrestrial_date.max()"
   ]
  },
  {
   "cell_type": "code",
   "execution_count": null,
   "id": "bd4dff5a",
   "metadata": {},
   "outputs": [],
   "source": [
    "mars_weather_year= mars_weather_df[\n",
    "    (mars_weather_df.terrestrial_date > \"2014-01-01\") & (mars_weather_df.terrestrial_date < \"2017-01-01\")\n",
    "]\n",
    "    "
   ]
  },
  {
   "cell_type": "code",
   "execution_count": null,
   "id": "3956f849",
   "metadata": {
    "scrolled": true
   },
   "outputs": [],
   "source": [
    "plot_signal_decomposition(mars_weather_year, \"max_temp\")"
   ]
  },
  {
   "cell_type": "code",
   "execution_count": null,
   "id": "ac80b136",
   "metadata": {},
   "outputs": [],
   "source": [
    "plot_signal_decomposition(mars_weather_df, \"max_gts_temp\")"
   ]
  },
  {
   "cell_type": "code",
   "execution_count": null,
   "id": "3d4decdc",
   "metadata": {},
   "outputs": [],
   "source": [
    "plot_signal_decomposition(mars_weather_df, \"pressure\")"
   ]
  },
  {
   "cell_type": "markdown",
   "id": "65365b33",
   "metadata": {},
   "source": [
    "## ACF and PACF\n",
    "- Detect non-stationarity\n",
    "- Determine the order of AR and MA terms in SARIMAX"
   ]
  },
  {
   "cell_type": "code",
   "execution_count": null,
   "id": "67ba2229",
   "metadata": {},
   "outputs": [],
   "source": [
    "from statsmodels.graphics.tsaplots import plot_acf\n",
    "from statsmodels.graphics.tsaplots import plot_pacf"
   ]
  },
  {
   "cell_type": "code",
   "execution_count": null,
   "id": "6350b28c",
   "metadata": {},
   "outputs": [],
   "source": [
    "def plot_acf_and_pacf(df, column_name): \n",
    "    f, ax = plt.subplots(nrows=2, ncols=1, figsize=(16, 8))\n",
    "\n",
    "    plot_acf(df[column_name], lags=200, ax=ax[0])\n",
    "    plot_pacf(df[column_name], lags=100, ax=ax[1])\n",
    "\n",
    "    plt.show()\n"
   ]
  },
  {
   "cell_type": "code",
   "execution_count": null,
   "id": "f9ce392f",
   "metadata": {},
   "outputs": [],
   "source": [
    "plot_acf_and_pacf(mars_weather_df, \"min_temp\")"
   ]
  },
  {
   "cell_type": "code",
   "execution_count": null,
   "id": "81cceffc",
   "metadata": {},
   "outputs": [],
   "source": [
    "plot_acf_and_pacf(mars_weather_df, \"min_gts_temp\")"
   ]
  },
  {
   "cell_type": "code",
   "execution_count": null,
   "id": "860914e7",
   "metadata": {},
   "outputs": [],
   "source": [
    "plot_acf_and_pacf(mars_weather_df, \"pressure\")"
   ]
  },
  {
   "cell_type": "markdown",
   "id": "f723ca94",
   "metadata": {},
   "source": [
    "- Strong indication of non stationarity, since many lags before autocorrelation tends to 0"
   ]
  },
  {
   "cell_type": "markdown",
   "id": "3424180a",
   "metadata": {},
   "source": [
    "## Check for Stationarity\n",
    "\n",
    "- Confirm non-stationarity with ADF test"
   ]
  },
  {
   "cell_type": "code",
   "execution_count": null,
   "id": "108ff08c",
   "metadata": {},
   "outputs": [],
   "source": [
    "from statsmodels.tsa.stattools import adfuller"
   ]
  },
  {
   "cell_type": "code",
   "execution_count": null,
   "id": "95121a41",
   "metadata": {},
   "outputs": [],
   "source": [
    "def apply_adf_test(df, column_name): \n",
    "    adf_test = adfuller(df[column_name].values)\n",
    "    \n",
    "    return adf_test"
   ]
  },
  {
   "cell_type": "code",
   "execution_count": null,
   "id": "684286c8",
   "metadata": {},
   "outputs": [],
   "source": [
    "for quantity in [\"min_temp\", \"max_temp\", \"min_gts_temp\", \"max_gts_temp\", \"pressure\"]:\n",
    "    result = apply_adf_test(mars_weather_df, quantity)\n",
    "    print(f\"p-value for {quantity} is {result[1]}\")"
   ]
  },
  {
   "cell_type": "markdown",
   "id": "23ba8ae5",
   "metadata": {},
   "source": [
    "- Using 5% level of significance, out of all quantities only the p-value of the ADF test for pressure allows us to reject the null hypothesis i.e that the time series has a unit root and thus is non-stanionery. \n",
    "- So all temperature signals are non-stationery and must be corrected to account for this. "
   ]
  },
  {
   "cell_type": "markdown",
   "id": "48ecd57b",
   "metadata": {},
   "source": [
    "## Determine order of differencing (integrated term)"
   ]
  },
  {
   "cell_type": "markdown",
   "id": "ed8d0f30",
   "metadata": {},
   "source": [
    "Find the lowest order of differencing that gives:\n",
    "- Time series with constant mean. \n",
    "- ACF that decays rapidly to 0 (means that there is no longer long term trends in the time series)"
   ]
  },
  {
   "cell_type": "code",
   "execution_count": null,
   "id": "5da6557a",
   "metadata": {},
   "outputs": [],
   "source": [
    "mars_weather_df[\"min_temp_difference1\"] = mars_weather_df.min_temp.diff()\n",
    "mars_weather_df[\"max_temp_difference1\"] = mars_weather_df.max_temp.diff()"
   ]
  },
  {
   "cell_type": "code",
   "execution_count": null,
   "id": "e24682c7",
   "metadata": {},
   "outputs": [],
   "source": [
    "plot_acf_and_pacf(mars_weather_df.dropna(), \"min_temp_difference1\")"
   ]
  },
  {
   "cell_type": "code",
   "execution_count": null,
   "id": "59476420",
   "metadata": {},
   "outputs": [],
   "source": [
    "plot_acf_and_pacf(mars_weather_df.dropna(), \"max_temp_difference1\")"
   ]
  },
  {
   "cell_type": "code",
   "execution_count": null,
   "id": "6285cd50",
   "metadata": {},
   "outputs": [],
   "source": [
    "plt.figure(figsize=(20, 7))\n",
    "sns.lineplot(mars_weather_df.terrestrial_date, mars_weather_df.min_temp)\n",
    "sns.lineplot(mars_weather_df.terrestrial_date, mars_weather_df.min_temp_difference1)"
   ]
  },
  {
   "cell_type": "code",
   "execution_count": null,
   "id": "abebcbe9",
   "metadata": {},
   "outputs": [],
   "source": [
    "plt.figure(figsize=(20, 7))\n",
    "sns.lineplot(mars_weather_df.terrestrial_date, mars_weather_df.max_temp)\n",
    "sns.lineplot(mars_weather_df.terrestrial_date, mars_weather_df.max_temp_difference1)"
   ]
  },
  {
   "cell_type": "markdown",
   "id": "37aa110e",
   "metadata": {},
   "source": [
    "- Only 1 order of differencing is required for time series with constant mean and ACF to deay quickly to 0. "
   ]
  },
  {
   "cell_type": "markdown",
   "id": "56aa3841",
   "metadata": {},
   "source": [
    "## Determine AR and MA terms\n",
    "- From ACF and PACF plots of the differnced series above, both AR and MA terms should be set to 1. \n",
    "- Number of lags before falling to 0. "
   ]
  },
  {
   "cell_type": "markdown",
   "id": "67d38b29",
   "metadata": {},
   "source": [
    "## SARIMAX model"
   ]
  },
  {
   "cell_type": "markdown",
   "id": "a28f4321",
   "metadata": {},
   "source": [
    "### Fit model"
   ]
  },
  {
   "cell_type": "code",
   "execution_count": null,
   "id": "1a7f1ff6",
   "metadata": {},
   "outputs": [],
   "source": [
    "from statsmodels.tsa.statespace.sarimax import SARIMAX\n",
    "from statsmodels.tsa.arima.model import ARIMA"
   ]
  },
  {
   "cell_type": "code",
   "execution_count": null,
   "id": "bb44b44e",
   "metadata": {},
   "outputs": [],
   "source": [
    "mars_weather_df.reset_index(inplace=True)\n",
    "mars_weather_df.head()"
   ]
  },
  {
   "cell_type": "code",
   "execution_count": null,
   "id": "6c11c1f7",
   "metadata": {},
   "outputs": [],
   "source": [
    "train_size = int(len(mars_weather_df) * 0.9)\n",
    "test_size = int(len(mars_weather_df)) - train_size\n",
    "\n",
    "train_df = mars_weather_df.loc[:train_size]\n",
    "test_df = mars_weather_df.loc[train_size:]"
   ]
  },
  {
   "cell_type": "code",
   "execution_count": null,
   "id": "7725cda7",
   "metadata": {},
   "outputs": [],
   "source": [
    "#sarimax_model = SARIMAX(train_df.min_temp, order=(1, 1, 1), seasonal_order=(1, 1, 1, 100))\n",
    "sarimax_model = ARIMA(train_df.min_temp, order=(1, 1, 1), seasonal_order=(1, 1, 1, 350))"
   ]
  },
  {
   "cell_type": "code",
   "execution_count": null,
   "id": "ab2b7534",
   "metadata": {},
   "outputs": [],
   "source": [
    "model_results = sarimax_model.fit(method='innovations_mle', low_memory=True, cov_type='none')"
   ]
  },
  {
   "cell_type": "code",
   "execution_count": null,
   "id": "cd27b627",
   "metadata": {
    "scrolled": true
   },
   "outputs": [],
   "source": [
    "model_results.plot_diagnostics(figsize=(18, 8))\n"
   ]
  },
  {
   "cell_type": "code",
   "execution_count": null,
   "id": "5c174b17",
   "metadata": {},
   "outputs": [],
   "source": [
    "preds = model_results.get_prediction(start=int(train_size*0.7))\n",
    "pred_ci = preds.conf_int()\n",
    "ax = train_df.min_temp.loc[int(train_size*0.7):].plot(label='Observed')\n",
    "preds.predicted_mean.plot(ax=ax, label='One-step ahead Forecast', alpha=.7, figsize=(14, 4))\n",
    "ax.fill_between(pred_ci.index,\n",
    "                pred_ci.iloc[:, 0],\n",
    "                pred_ci.iloc[:, 1], color='k', alpha=.2)\n",
    "ax.set_xlabel('Day')\n",
    "ax.set_ylabel('Min temp')\n",
    "ax.set_title(\"In-sample predictions\")\n",
    "plt.legend()\n",
    "plt.show()\n"
   ]
  },
  {
   "cell_type": "code",
   "execution_count": null,
   "id": "4f5cc19c",
   "metadata": {},
   "outputs": [],
   "source": [
    "y_pred = preds.predicted_mean\n",
    "y_train = train_df.loc[int(train_size*0.7):, \"min_temp\"].values\n",
    "mse = ((y_pred - y_train)**2).mean()\n",
    "rmse = np.sqrt(mse)\n",
    "\n",
    "print(\"MSE: \", mse)\n",
    "print(\"RMSE: \", rmse)"
   ]
  },
  {
   "cell_type": "code",
   "execution_count": null,
   "id": "a1223129",
   "metadata": {},
   "outputs": [],
   "source": [
    "print(mars_weather_df.shape)\n",
    "print(train_size)\n",
    "print(test_size)"
   ]
  },
  {
   "cell_type": "code",
   "execution_count": null,
   "id": "3ccf2a0d",
   "metadata": {},
   "outputs": [],
   "source": [
    "forecast_steps = 30\n",
    "\n",
    "y_pred_forecast = model_results.get_forecast(steps=forecast_steps)\n",
    "pred_ci = y_pred_forecast.conf_int()\n",
    "\n",
    "ax = test_df.min_temp[:forecast_steps].plot(label='Observed', figsize=(14, 4))\n",
    "\n",
    "y_pred_forecast.predicted_mean.plot(ax=ax, label='Forecast')\n",
    "\n",
    "ax.fill_between(\n",
    "    pred_ci.index,\n",
    "    pred_ci.iloc[:, 0],\n",
    "    pred_ci.iloc[:, 1], color='k', \n",
    "    alpha=.25\n",
    ")\n",
    "\n",
    "ax.set_xlabel('Day')\n",
    "ax.set_ylabel('Min temp')\n",
    "ax.set_title(\"Out-of-sample predictions\")\n",
    "plt.legend()\n",
    "plt.show()"
   ]
  },
  {
   "cell_type": "code",
   "execution_count": null,
   "id": "fefaec51",
   "metadata": {},
   "outputs": [],
   "source": []
  }
 ],
 "metadata": {
  "kernelspec": {
   "display_name": "Python 3",
   "language": "python",
   "name": "python3"
  },
  "language_info": {
   "codemirror_mode": {
    "name": "ipython",
    "version": 3
   },
   "file_extension": ".py",
   "mimetype": "text/x-python",
   "name": "python",
   "nbconvert_exporter": "python",
   "pygments_lexer": "ipython3",
   "version": "3.7.1"
  }
 },
 "nbformat": 4,
 "nbformat_minor": 5
}

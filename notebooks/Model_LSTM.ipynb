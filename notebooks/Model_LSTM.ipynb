{
 "cells": [
  {
   "cell_type": "code",
   "execution_count": 128,
   "id": "10277331",
   "metadata": {},
   "outputs": [],
   "source": [
    "import numpy as np \n",
    "import pandas as pd\n",
    "import matplotlib.pyplot as plt\n",
    "import plotly.express as px\n",
    "import seaborn as sns\n",
    "from datetime import datetime, timedelta\n",
    "\n",
    "from sklearn.preprocessing import MinMaxScaler\n",
    "from sklearn.preprocessing import StandardScaler\n",
    "from sklearn.model_selection import train_test_split\n",
    "import sklearn.metrics\n",
    "from sklearn import preprocessing\n",
    "\n",
    "import torch\n",
    "import torchvision\n",
    "from torchvision import transforms\n",
    "from torchvision.transforms import Normalize, Resize, ToTensor\n",
    "from torch.autograd import Variable\n",
    "import torch.nn as nn\n",
    "import torch.nn.functional as F\n",
    "import torch.optim as optim"
   ]
  },
  {
   "cell_type": "code",
   "execution_count": 129,
   "id": "440bce36",
   "metadata": {},
   "outputs": [],
   "source": [
    "mars_weather_df = pd.read_csv(\"../local_datasets/mars_weather_data_cleaned.csv\")"
   ]
  },
  {
   "cell_type": "code",
   "execution_count": 130,
   "id": "79ea4510",
   "metadata": {},
   "outputs": [
    {
     "data": {
      "text/plain": [
       "Index(['Unnamed: 0', 'id', 'terrestrial_date', 'sol', 'ls', 'season',\n",
       "       'min_temp', 'max_temp', 'pressure', 'pressure_string', 'abs_humidity',\n",
       "       'wind_speed', 'wind_direction', 'atmo_opacity', 'sunrise', 'sunset',\n",
       "       'local_uv_irradiance_index', 'min_gts_temp', 'max_gts_temp'],\n",
       "      dtype='object')"
      ]
     },
     "execution_count": 130,
     "metadata": {},
     "output_type": "execute_result"
    }
   ],
   "source": [
    "mars_weather_df.columns"
   ]
  },
  {
   "cell_type": "code",
   "execution_count": 131,
   "id": "79342ae9",
   "metadata": {},
   "outputs": [],
   "source": [
    "mars_weather_df = mars_weather_df[\n",
    "    [\"terrestrial_date\", \"sol\", \"min_temp\", \"max_temp\", \"pressure\", \"min_gts_temp\", \"max_gts_temp\"]\n",
    "]"
   ]
  },
  {
   "cell_type": "code",
   "execution_count": 132,
   "id": "13a17256",
   "metadata": {},
   "outputs": [
    {
     "name": "stdout",
     "output_type": "stream",
     "text": [
      "(2950, 7)\n"
     ]
    },
    {
     "data": {
      "text/html": [
       "<div>\n",
       "<style scoped>\n",
       "    .dataframe tbody tr th:only-of-type {\n",
       "        vertical-align: middle;\n",
       "    }\n",
       "\n",
       "    .dataframe tbody tr th {\n",
       "        vertical-align: top;\n",
       "    }\n",
       "\n",
       "    .dataframe thead th {\n",
       "        text-align: right;\n",
       "    }\n",
       "</style>\n",
       "<table border=\"1\" class=\"dataframe\">\n",
       "  <thead>\n",
       "    <tr style=\"text-align: right;\">\n",
       "      <th></th>\n",
       "      <th>terrestrial_date</th>\n",
       "      <th>sol</th>\n",
       "      <th>min_temp</th>\n",
       "      <th>max_temp</th>\n",
       "      <th>pressure</th>\n",
       "      <th>min_gts_temp</th>\n",
       "      <th>max_gts_temp</th>\n",
       "    </tr>\n",
       "  </thead>\n",
       "  <tbody>\n",
       "    <tr>\n",
       "      <th>0</th>\n",
       "      <td>2012-08-16</td>\n",
       "      <td>10</td>\n",
       "      <td>-75</td>\n",
       "      <td>-16</td>\n",
       "      <td>739</td>\n",
       "      <td>-83</td>\n",
       "      <td>8</td>\n",
       "    </tr>\n",
       "    <tr>\n",
       "      <th>1</th>\n",
       "      <td>2012-08-17</td>\n",
       "      <td>11</td>\n",
       "      <td>-76</td>\n",
       "      <td>-11</td>\n",
       "      <td>740</td>\n",
       "      <td>-83</td>\n",
       "      <td>9</td>\n",
       "    </tr>\n",
       "    <tr>\n",
       "      <th>2</th>\n",
       "      <td>2012-08-18</td>\n",
       "      <td>12</td>\n",
       "      <td>-76</td>\n",
       "      <td>-18</td>\n",
       "      <td>741</td>\n",
       "      <td>-82</td>\n",
       "      <td>8</td>\n",
       "    </tr>\n",
       "    <tr>\n",
       "      <th>3</th>\n",
       "      <td>2012-08-19</td>\n",
       "      <td>13</td>\n",
       "      <td>-74</td>\n",
       "      <td>-15</td>\n",
       "      <td>732</td>\n",
       "      <td>-80</td>\n",
       "      <td>8</td>\n",
       "    </tr>\n",
       "    <tr>\n",
       "      <th>4</th>\n",
       "      <td>2012-08-20</td>\n",
       "      <td>14</td>\n",
       "      <td>-74</td>\n",
       "      <td>-16</td>\n",
       "      <td>740</td>\n",
       "      <td>-82</td>\n",
       "      <td>9</td>\n",
       "    </tr>\n",
       "  </tbody>\n",
       "</table>\n",
       "</div>"
      ],
      "text/plain": [
       "  terrestrial_date  sol  min_temp  max_temp  pressure  min_gts_temp  \\\n",
       "0       2012-08-16   10       -75       -16       739           -83   \n",
       "1       2012-08-17   11       -76       -11       740           -83   \n",
       "2       2012-08-18   12       -76       -18       741           -82   \n",
       "3       2012-08-19   13       -74       -15       732           -80   \n",
       "4       2012-08-20   14       -74       -16       740           -82   \n",
       "\n",
       "   max_gts_temp  \n",
       "0             8  \n",
       "1             9  \n",
       "2             8  \n",
       "3             8  \n",
       "4             9  "
      ]
     },
     "execution_count": 132,
     "metadata": {},
     "output_type": "execute_result"
    }
   ],
   "source": [
    "print(mars_weather_df.shape)\n",
    "mars_weather_df.head()"
   ]
  },
  {
   "cell_type": "code",
   "execution_count": 133,
   "id": "d9a1d53f",
   "metadata": {},
   "outputs": [
    {
     "data": {
      "text/plain": [
       "terrestrial_date    0\n",
       "sol                 0\n",
       "min_temp            0\n",
       "max_temp            0\n",
       "pressure            0\n",
       "min_gts_temp        0\n",
       "max_gts_temp        0\n",
       "dtype: int64"
      ]
     },
     "execution_count": 133,
     "metadata": {},
     "output_type": "execute_result"
    }
   ],
   "source": [
    "mars_weather_df.isnull().sum(axis=0)"
   ]
  },
  {
   "cell_type": "code",
   "execution_count": 134,
   "id": "735ce26f",
   "metadata": {},
   "outputs": [],
   "source": [
    "mars_weather_df[\"terrestrial_date\"] = pd.to_datetime(mars_weather_df[\"terrestrial_date\"])"
   ]
  },
  {
   "cell_type": "code",
   "execution_count": 135,
   "id": "554fb573",
   "metadata": {},
   "outputs": [],
   "source": [
    "mars_weather_df = mars_weather_df[\n",
    "    (mars_weather_df.terrestrial_date > \"2013-06-01\") & (mars_weather_df.terrestrial_date < \"2018-06-01\")\n",
    "]"
   ]
  },
  {
   "cell_type": "code",
   "execution_count": 136,
   "id": "0d3ddcce",
   "metadata": {},
   "outputs": [
    {
     "data": {
      "text/plain": [
       "(Timestamp('2013-06-02 00:00:00'), Timestamp('2018-05-31 00:00:00'))"
      ]
     },
     "execution_count": 136,
     "metadata": {},
     "output_type": "execute_result"
    }
   ],
   "source": [
    "mars_weather_df.terrestrial_date.min(), mars_weather_df.terrestrial_date.max()"
   ]
  },
  {
   "cell_type": "markdown",
   "id": "b5d55a87",
   "metadata": {},
   "source": [
    "## Feature Engineering\n",
    "- Sin and cosing transformation of time of year to encode cyclical nature of the data into a feature used to train the model. "
   ]
  },
  {
   "cell_type": "code",
   "execution_count": 137,
   "id": "ac2e1524",
   "metadata": {},
   "outputs": [
    {
     "data": {
      "text/html": [
       "<div>\n",
       "<style scoped>\n",
       "    .dataframe tbody tr th:only-of-type {\n",
       "        vertical-align: middle;\n",
       "    }\n",
       "\n",
       "    .dataframe tbody tr th {\n",
       "        vertical-align: top;\n",
       "    }\n",
       "\n",
       "    .dataframe thead th {\n",
       "        text-align: right;\n",
       "    }\n",
       "</style>\n",
       "<table border=\"1\" class=\"dataframe\">\n",
       "  <thead>\n",
       "    <tr style=\"text-align: right;\">\n",
       "      <th></th>\n",
       "      <th>terrestrial_date</th>\n",
       "      <th>sol</th>\n",
       "      <th>min_temp</th>\n",
       "      <th>max_temp</th>\n",
       "      <th>pressure</th>\n",
       "      <th>min_gts_temp</th>\n",
       "      <th>max_gts_temp</th>\n",
       "      <th>timestamp</th>\n",
       "      <th>timestamp_sin</th>\n",
       "      <th>timestamp_cos</th>\n",
       "    </tr>\n",
       "  </thead>\n",
       "  <tbody>\n",
       "    <tr>\n",
       "      <th>245</th>\n",
       "      <td>2013-06-02</td>\n",
       "      <td>292</td>\n",
       "      <td>-71</td>\n",
       "      <td>-1</td>\n",
       "      <td>853</td>\n",
       "      <td>-71</td>\n",
       "      <td>-1</td>\n",
       "      <td>1.370131e+09</td>\n",
       "      <td>0.499069</td>\n",
       "      <td>-0.866562</td>\n",
       "    </tr>\n",
       "    <tr>\n",
       "      <th>246</th>\n",
       "      <td>2013-06-03</td>\n",
       "      <td>293</td>\n",
       "      <td>-72</td>\n",
       "      <td>-4</td>\n",
       "      <td>850</td>\n",
       "      <td>-72</td>\n",
       "      <td>0</td>\n",
       "      <td>1.370218e+09</td>\n",
       "      <td>0.484089</td>\n",
       "      <td>-0.875019</td>\n",
       "    </tr>\n",
       "    <tr>\n",
       "      <th>247</th>\n",
       "      <td>2013-06-04</td>\n",
       "      <td>294</td>\n",
       "      <td>-72</td>\n",
       "      <td>-4</td>\n",
       "      <td>852</td>\n",
       "      <td>-71</td>\n",
       "      <td>-1</td>\n",
       "      <td>1.370304e+09</td>\n",
       "      <td>0.468965</td>\n",
       "      <td>-0.883217</td>\n",
       "    </tr>\n",
       "    <tr>\n",
       "      <th>248</th>\n",
       "      <td>2013-06-05</td>\n",
       "      <td>295</td>\n",
       "      <td>-71</td>\n",
       "      <td>-15</td>\n",
       "      <td>853</td>\n",
       "      <td>-71</td>\n",
       "      <td>-1</td>\n",
       "      <td>1.370390e+09</td>\n",
       "      <td>0.453703</td>\n",
       "      <td>-0.891153</td>\n",
       "    </tr>\n",
       "    <tr>\n",
       "      <th>249</th>\n",
       "      <td>2013-06-06</td>\n",
       "      <td>296</td>\n",
       "      <td>-71</td>\n",
       "      <td>-9</td>\n",
       "      <td>850</td>\n",
       "      <td>-73</td>\n",
       "      <td>1</td>\n",
       "      <td>1.370477e+09</td>\n",
       "      <td>0.438307</td>\n",
       "      <td>-0.898825</td>\n",
       "    </tr>\n",
       "  </tbody>\n",
       "</table>\n",
       "</div>"
      ],
      "text/plain": [
       "    terrestrial_date  sol  min_temp  max_temp  pressure  min_gts_temp  \\\n",
       "245       2013-06-02  292       -71        -1       853           -71   \n",
       "246       2013-06-03  293       -72        -4       850           -72   \n",
       "247       2013-06-04  294       -72        -4       852           -71   \n",
       "248       2013-06-05  295       -71       -15       853           -71   \n",
       "249       2013-06-06  296       -71        -9       850           -73   \n",
       "\n",
       "     max_gts_temp     timestamp  timestamp_sin  timestamp_cos  \n",
       "245            -1  1.370131e+09       0.499069      -0.866562  \n",
       "246             0  1.370218e+09       0.484089      -0.875019  \n",
       "247            -1  1.370304e+09       0.468965      -0.883217  \n",
       "248            -1  1.370390e+09       0.453703      -0.891153  \n",
       "249             1  1.370477e+09       0.438307      -0.898825  "
      ]
     },
     "execution_count": 137,
     "metadata": {},
     "output_type": "execute_result"
    }
   ],
   "source": [
    "mars_weather_df[\"timestamp\"] = mars_weather_df.terrestrial_date.apply(lambda x: x.timestamp())\n",
    "\n",
    "num_seconds_in_an_earth_year = 60 * 60 * 24 * 365.25\n",
    "\n",
    "sin_transformation = lambda x: np.sin(\n",
    "    (2 * np.pi * x) / num_seconds_in_an_earth_year\n",
    ")\n",
    "\n",
    "cos_transformation = lambda x: np.cos(\n",
    "    (2 * np.pi * x) / num_seconds_in_an_earth_year\n",
    ")\n",
    "\n",
    "mars_weather_df[\"timestamp_sin\"] = mars_weather_df.timestamp.apply(sin_transformation)\n",
    "mars_weather_df[\"timestamp_cos\"] = mars_weather_df.timestamp.apply(cos_transformation)\n",
    "\n",
    "mars_weather_df.head()"
   ]
  },
  {
   "cell_type": "markdown",
   "id": "d11fe40e",
   "metadata": {},
   "source": [
    "## Prepare data "
   ]
  },
  {
   "cell_type": "code",
   "execution_count": 138,
   "id": "130a49cb",
   "metadata": {},
   "outputs": [],
   "source": [
    "def create_train_test_split(data_df, train_prop): \n",
    "    test_prop = 1 - train_prop\n",
    "    train_data_df = data_df.iloc[:int(len(data_df) * train_prop)]\n",
    "    test_data_df = data_df.iloc[len(train_data_df):]\n",
    "    \n",
    "    return train_data_df, test_data_df"
   ]
  },
  {
   "cell_type": "code",
   "execution_count": 139,
   "id": "b9db1d51",
   "metadata": {},
   "outputs": [],
   "source": [
    "def scale_data(train_data, test_data, scaling):\n",
    "    if scaling == \"Standardise\": \n",
    "        train_mean = train_data.mean()\n",
    "        train_std = train_data.std()\n",
    "        \n",
    "        train_data_scaled = (train_data - train_mean) / train_std\n",
    "        test_data_scaled = (test_data - train_mean) / train_std\n",
    "        \n",
    "    if scaling == \"Normalise\": \n",
    "        train_min = train_data.min()\n",
    "        train_max = train_data.max()\n",
    "        \n",
    "        train_data_scaled = (train_data - train_min) / (train_max - train_min)\n",
    "        test_data_scaled = (test_data - train_min) / (train_max - train_min)\n",
    "\n",
    "    \n",
    "    return train_data_scaled, test_data_scaled        "
   ]
  },
  {
   "cell_type": "code",
   "execution_count": 140,
   "id": "6aa61669",
   "metadata": {},
   "outputs": [],
   "source": [
    "def construct_training_sequences_and_labels(df, quantity, lags, num_timesteps_to_forecast): \n",
    "    train_x = []\n",
    "    train_y = []\n",
    "    \n",
    "    df_reset_index = df.reset_index(drop=True)\n",
    "    quantity_series = df_reset_index[quantity].values\n",
    "    \n",
    "    for i in range(len(quantity_series) - lags - num_timesteps_to_forecast): \n",
    "        seq_x = df_reset_index.iloc[i:(i + lags)].values\n",
    "        seq_y = quantity_series[(i + lags):(i + lags + num_timesteps_to_forecast)]\n",
    "        \n",
    "        train_x.append(seq_x)\n",
    "        train_y.append(seq_y)\n",
    "        \n",
    "    return np.array(train_x), np.array(train_y)"
   ]
  },
  {
   "cell_type": "code",
   "execution_count": 141,
   "id": "721e5784",
   "metadata": {},
   "outputs": [],
   "source": [
    "quantity_to_forecast = \"min_temp\"\n",
    "features = [\"timestamp_sin\", \"timestamp_cos\"]\n",
    "mars_weather_df_forecast = mars_weather_df[[quantity_to_forecast] + features]\n",
    "mars_weather_df_forecast.reset_index(inplace=True, drop=True)\n",
    "\n",
    "train_df, test_df = create_train_test_split(mars_weather_df_forecast, train_prop=0.7)\n",
    "\n",
    "val_df, test_df = create_train_test_split(test_df, train_prop=0.5)"
   ]
  },
  {
   "cell_type": "code",
   "execution_count": 142,
   "id": "ee6bc1ab",
   "metadata": {},
   "outputs": [],
   "source": [
    "train_x, train_y = construct_training_sequences_and_labels(\n",
    "    train_df, quantity_to_forecast, lags=10, num_timesteps_to_forecast=1\n",
    ")\n",
    "\n",
    "val_x, val_y = construct_training_sequences_and_labels(\n",
    "    val_df, quantity_to_forecast, lags=10, num_timesteps_to_forecast=1\n",
    ")\n",
    "\n",
    "test_x, test_y = construct_training_sequences_and_labels(\n",
    "    test_df, quantity_to_forecast, lags=10, num_timesteps_to_forecast=1\n",
    ")\n",
    "\n",
    "\n",
    "scaler = MinMaxScaler()\n",
    "\n",
    "\n",
    "seq_len, num_features = train_x.shape[1], train_x.shape[2]\n",
    "\n",
    "train_x_reshape = train_x.reshape((train_x.shape[0]*seq_len, num_features))\n",
    "val_x_reshape = val_x.reshape((val_x.shape[0]*seq_len, num_features))\n",
    "test_x_reshape = test_x.reshape((test_x.shape[0]*seq_len, num_features))\n",
    "\n",
    "scaler.fit(train_x_reshape)\n",
    "\n",
    "\n",
    "train_x_scaled = scaler.transform(train_x_reshape).reshape((train_x.shape[0], seq_len, num_features))\n",
    "val_x_scaled = scaler.transform(val_x_reshape).reshape((val_x.shape[0], seq_len, num_features))\n",
    "test_x_scaled = scaler.transform(test_x_reshape).reshape((test_x.shape[0], seq_len, num_features))\n",
    "\n",
    "scaler_y = MinMaxScaler()\n",
    "scaler_y.fit(train_y)\n",
    "train_y_scaled, val_y_scaled, test_y_scaled = scaler_y.transform(train_y), scaler_y.transform(val_y), scaler_y.transform(test_y)\n",
    "\n",
    "                                                                                                                         "
   ]
  },
  {
   "cell_type": "code",
   "execution_count": 143,
   "id": "dd94c68c",
   "metadata": {},
   "outputs": [],
   "source": [
    "train_x_tensor = torch.tensor(train_x_scaled, dtype=torch.float)\n",
    "train_y_tensor = torch.tensor(train_y_scaled, dtype=torch.float)\n",
    "\n",
    "val_x_tensor = torch.tensor(val_x_scaled, dtype=torch.float)\n",
    "val_y_tensor = torch.tensor(val_y_scaled, dtype=torch.float)\n",
    "\n",
    "test_x_tensor = torch.tensor(test_x_scaled, dtype=torch.float)\n",
    "test_y_tensor = torch.tensor(test_y_scaled, dtype=torch.float)"
   ]
  },
  {
   "cell_type": "code",
   "execution_count": 144,
   "id": "7d6d9867",
   "metadata": {},
   "outputs": [
    {
     "data": {
      "text/plain": [
       "((1188, 10, 3), (1188, 1), (246, 10, 3), (246, 1), (246, 10, 3), (246, 1))"
      ]
     },
     "execution_count": 144,
     "metadata": {},
     "output_type": "execute_result"
    }
   ],
   "source": [
    "train_x.shape, train_y.shape, val_x.shape, val_y.shape, test_x.shape, test_y.shape"
   ]
  },
  {
   "cell_type": "code",
   "execution_count": 145,
   "id": "a02fecf5",
   "metadata": {},
   "outputs": [
    {
     "data": {
      "text/plain": [
       "tensor([[0.7037, 0.7495, 0.0667],\n",
       "        [0.6667, 0.7420, 0.0625],\n",
       "        [0.6667, 0.7345, 0.0584],\n",
       "        [0.7037, 0.7269, 0.0544],\n",
       "        [0.7037, 0.7192, 0.0506],\n",
       "        [0.6667, 0.7114, 0.0469],\n",
       "        [0.6667, 0.7036, 0.0433],\n",
       "        [0.7037, 0.6957, 0.0399],\n",
       "        [0.6667, 0.6877, 0.0366],\n",
       "        [0.6296, 0.6797, 0.0334]])"
      ]
     },
     "execution_count": 145,
     "metadata": {},
     "output_type": "execute_result"
    }
   ],
   "source": [
    "train_x_tensor[0]"
   ]
  },
  {
   "cell_type": "code",
   "execution_count": 146,
   "id": "2937f0d9",
   "metadata": {},
   "outputs": [
    {
     "data": {
      "text/plain": [
       "tensor([0.7037])"
      ]
     },
     "execution_count": 146,
     "metadata": {},
     "output_type": "execute_result"
    }
   ],
   "source": [
    "train_y_tensor[0]"
   ]
  },
  {
   "cell_type": "code",
   "execution_count": 147,
   "id": "078db28c",
   "metadata": {},
   "outputs": [],
   "source": [
    "trainset = torch.utils.data.TensorDataset(train_x_tensor, train_y_tensor)\n",
    "trainloader = torch.utils.data.DataLoader(trainset, batch_size=32, shuffle=False)"
   ]
  },
  {
   "cell_type": "markdown",
   "id": "ee954605",
   "metadata": {},
   "source": [
    "## RNN"
   ]
  },
  {
   "cell_type": "code",
   "execution_count": 148,
   "id": "f1181965",
   "metadata": {},
   "outputs": [],
   "source": [
    "\n",
    "class RNNModel(nn.Module): \n",
    "    def __init__(self, input_size, output_size, hidden_size, n_layers):\n",
    "        super(RNNModel, self).__init__()\n",
    "        self.input_size = input_size\n",
    "        self.output_size = output_size\n",
    "        self.hidden_size = hidden_size\n",
    "        self.n_layers = n_layers\n",
    "        \n",
    "        self.rnn = nn.RNN(self.input_size, self.hidden_size, self.n_layers, batch_first=True)   \n",
    "        self.fc = nn.Linear(self.hidden_size, self.output_size)\n",
    "    \n",
    "    def forward(self, x): \n",
    "        batch_size = x.size(0)\n",
    "        \n",
    "        h_0 = torch.zeros(self.n_layers, batch_size, self.hidden_size)\n",
    "        \n",
    "        output, h_0 = self.rnn(x, h_0.detach())\n",
    "        \n",
    "        output = output[:, -1, :]\n",
    "        \n",
    "        output = self.fc(output)\n",
    "        \n",
    "        return output\n",
    "    "
   ]
  },
  {
   "cell_type": "code",
   "execution_count": 149,
   "id": "2bac7566",
   "metadata": {},
   "outputs": [],
   "source": [
    "class LSTMModel(nn.Module): \n",
    "    def __init__(self, input_size, output_size, hidden_size, n_layers):\n",
    "        super(LSTMModel, self).__init__()\n",
    "        self.input_size = input_size\n",
    "        self.output_size = output_size\n",
    "        self.hidden_size = hidden_size\n",
    "        self.n_layers = n_layers\n",
    "        \n",
    "        self.lstm = nn.LSTM(self.input_size, self.hidden_size, self.n_layers, batch_first=True)   \n",
    "        self.fc = nn.Linear(self.hidden_size, self.output_size)\n",
    "    \n",
    "    def forward(self, x): \n",
    "        batch_size = x.size(0)\n",
    "        \n",
    "        h_0 = torch.zeros(self.n_layers, batch_size, self.hidden_size)\n",
    "        c_0 = torch.zeros(self.n_layers, batch_size, self.hidden_size)\n",
    "        \n",
    "        output, (h_0, c_0) = self.lstm(x, (h_0.detach(), c_0.detach()))\n",
    "        \n",
    "        output = output[:, -1, :]\n",
    "        \n",
    "        output = self.fc(output)\n",
    "        \n",
    "        return output\n",
    "    "
   ]
  },
  {
   "cell_type": "code",
   "execution_count": 150,
   "id": "4f5c7ddf",
   "metadata": {},
   "outputs": [
    {
     "name": "stdout",
     "output_type": "stream",
     "text": [
      "Epoch [1/50]], Loss: 0.1851\n",
      "Epoch [2/50]], Loss: 0.0574\n",
      "Epoch [3/50]], Loss: 0.0119\n",
      "Epoch [4/50]], Loss: 0.0099\n",
      "Epoch [5/50]], Loss: 0.0104\n",
      "Epoch [6/50]], Loss: 0.0103\n",
      "Epoch [7/50]], Loss: 0.0102\n",
      "Epoch [8/50]], Loss: 0.0100\n",
      "Epoch [9/50]], Loss: 0.0098\n",
      "Epoch [10/50]], Loss: 0.0095\n",
      "Epoch [11/50]], Loss: 0.0091\n",
      "Epoch [12/50]], Loss: 0.0085\n",
      "Epoch [13/50]], Loss: 0.0076\n",
      "Epoch [14/50]], Loss: 0.0066\n",
      "Epoch [15/50]], Loss: 0.0056\n",
      "Epoch [16/50]], Loss: 0.0046\n",
      "Epoch [17/50]], Loss: 0.0039\n",
      "Epoch [18/50]], Loss: 0.0032\n",
      "Epoch [19/50]], Loss: 0.0028\n",
      "Epoch [20/50]], Loss: 0.0024\n",
      "Epoch [21/50]], Loss: 0.0022\n",
      "Epoch [22/50]], Loss: 0.0022\n",
      "Epoch [23/50]], Loss: 0.0023\n",
      "Epoch [24/50]], Loss: 0.0025\n",
      "Epoch [25/50]], Loss: 0.0028\n",
      "Epoch [26/50]], Loss: 0.0031\n",
      "Epoch [27/50]], Loss: 0.0034\n",
      "Epoch [28/50]], Loss: 0.0037\n",
      "Epoch [29/50]], Loss: 0.0039\n",
      "Epoch [30/50]], Loss: 0.0041\n",
      "Epoch [31/50]], Loss: 0.0042\n",
      "Epoch [32/50]], Loss: 0.0043\n",
      "Epoch [33/50]], Loss: 0.0043\n",
      "Epoch [34/50]], Loss: 0.0043\n",
      "Epoch [35/50]], Loss: 0.0044\n",
      "Epoch [36/50]], Loss: 0.0044\n",
      "Epoch [37/50]], Loss: 0.0044\n",
      "Epoch [38/50]], Loss: 0.0044\n",
      "Epoch [39/50]], Loss: 0.0044\n",
      "Epoch [40/50]], Loss: 0.0044\n",
      "Epoch [41/50]], Loss: 0.0045\n",
      "Epoch [42/50]], Loss: 0.0045\n",
      "Epoch [43/50]], Loss: 0.0045\n",
      "Epoch [44/50]], Loss: 0.0045\n",
      "Epoch [45/50]], Loss: 0.0045\n",
      "Epoch [46/50]], Loss: 0.0045\n",
      "Epoch [47/50]], Loss: 0.0045\n",
      "Epoch [48/50]], Loss: 0.0045\n",
      "Epoch [49/50]], Loss: 0.0046\n",
      "Training stopped after 48 epochs. Training loss: 0.004485177026301818, Validaton loss: 0.004920839332044125\n"
     ]
    }
   ],
   "source": [
    "input_size = train_x_tensor.size(-1)\n",
    "output_size = 1\n",
    "hidden_size = 64\n",
    "n_layers = 1\n",
    "\n",
    "learning_rate = 1e-4\n",
    "weight_decay = 1e-6\n",
    "\n",
    "num_epochs = 50\n",
    "\n",
    "rnn_model = RNNModel(input_size, output_size, hidden_size, n_layers)\n",
    "criterion = nn.MSELoss()\n",
    "optimiser = optim.AdamW(rnn_model.parameters(), lr=learning_rate, weight_decay=weight_decay)\n",
    "\n",
    "training_loss_over_epochs = []\n",
    "validation_loss_over_epochs = []\n",
    "\n",
    "best_val_loss = 1000000\n",
    "\n",
    "for epoch in range(num_epochs): \n",
    "    \n",
    "    running_loss = 0\n",
    "    for batch, (train_in, train_out) in enumerate(trainloader): \n",
    "        model_preds = rnn_model(train_in)\n",
    "        \n",
    "        loss = criterion(model_preds, train_out)\n",
    "        \n",
    "        optimiser.zero_grad()\n",
    "        loss.backward()\n",
    "        optimiser.step()\n",
    "        \n",
    "        running_loss += loss.item()\n",
    "        \n",
    "    training_loss_over_epochs.append(running_loss/len(trainloader))\n",
    "    \n",
    "    with torch.no_grad(): \n",
    "        rnn_model.eval()\n",
    "        \n",
    "        val_preds = rnn_model(val_x_tensor)\n",
    "        val_loss = criterion(val_preds, val_y_tensor)\n",
    "        validation_loss_over_epochs.append(val_loss.item())\n",
    "        \n",
    "    print (f'Epoch [{epoch+1}/{num_epochs}]], Loss: {loss.item():.4f}')\n",
    "    \n",
    "    if val_loss < best_val_loss: \n",
    "        best_val_loss = val_loss\n",
    "        best_epoch = epoch\n",
    "        \n",
    "    if epoch - best_epoch > 20: \n",
    "        print(\n",
    "            f\"Training stopped after {epoch} epochs. Training loss: {training_loss_over_epochs[-1]}, Validaton loss: {val_loss}\"\n",
    "        )\n",
    "        break\n",
    "        \n",
    "    \n"
   ]
  },
  {
   "cell_type": "code",
   "execution_count": 153,
   "id": "4029842b",
   "metadata": {},
   "outputs": [
    {
     "data": {
      "text/plain": [
       "<matplotlib.legend.Legend at 0x281ac1a61d0>"
      ]
     },
     "execution_count": 153,
     "metadata": {},
     "output_type": "execute_result"
    },
    {
     "data": {
      "image/png": "[encoded data removed]",
      "text/plain": [
       "<Figure size 432x288 with 1 Axes>"
      ]
     },
     "metadata": {
      "needs_background": "light"
     },
     "output_type": "display_data"
    }
   ],
   "source": [
    "plt.plot(training_loss_over_epochs, label=\"Train loss\")\n",
    "plt.plot(validation_loss_over_epochs, label=\"Validation loss\")\n",
    "plt.xlabel(\"Epoch\")\n",
    "plt.ylabel(\"Loss\")\n",
    "plt.legend()"
   ]
  },
  {
   "cell_type": "code",
   "execution_count": 154,
   "id": "48b8ab79",
   "metadata": {},
   "outputs": [],
   "source": [
    "test_set_predictions = rnn_model(test_x_tensor).detach().numpy()"
   ]
  },
  {
   "cell_type": "code",
   "execution_count": 155,
   "id": "3e2421f6",
   "metadata": {},
   "outputs": [
    {
     "data": {
      "image/png": "[encoded data removed]",
      "text/plain": [
       "<Figure size 1080x720 with 1 Axes>"
      ]
     },
     "metadata": {
      "needs_background": "light"
     },
     "output_type": "display_data"
    }
   ],
   "source": [
    "plt.figure(figsize=(15, 10))\n",
    "plt.plot(test_set_predictions, \"--\", label=\"Predictions\",linewidth=3)\n",
    "plt.plot(test_y_tensor.numpy(), \"-\", label=\"Ground Truth\")\n",
    "plt.legend()\n",
    "plt.show()"
   ]
  },
  {
   "cell_type": "code",
   "execution_count": 156,
   "id": "ff23a0ee",
   "metadata": {},
   "outputs": [
    {
     "data": {
      "image/png": "[encoded data removed]",
      "text/plain": [
       "<Figure size 1080x720 with 1 Axes>"
      ]
     },
     "metadata": {
      "needs_background": "light"
     },
     "output_type": "display_data"
    }
   ],
   "source": [
    "plt.figure(figsize=(15, 10))\n",
    "plt.plot(scaler_y.inverse_transform(test_set_predictions), \"--\", label=\"Predictions\",linewidth=3)\n",
    "plt.plot(scaler_y.inverse_transform(test_y_tensor.numpy()), \"-\", label=\"Ground Truth\")\n",
    "plt.legend()\n",
    "plt.show()"
   ]
  },
  {
   "cell_type": "code",
   "execution_count": 157,
   "id": "77580dfb",
   "metadata": {},
   "outputs": [],
   "source": [
    "mae = sklearn.metrics.mean_absolute_error(scaler_y.inverse_transform(test_y_tensor.numpy()), scaler_y.inverse_transform(test_set_predictions))\n",
    "mse = sklearn.metrics.mean_squared_error(scaler_y.inverse_transform(test_y_tensor.numpy()), scaler_y.inverse_transform(test_set_predictions))"
   ]
  },
  {
   "cell_type": "code",
   "execution_count": 158,
   "id": "15c5ccc9",
   "metadata": {},
   "outputs": [],
   "source": [
    "metrics = {\n",
    "    \"MAE\": mae, \n",
    "    \"MSE\": mse\n",
    "}"
   ]
  },
  {
   "cell_type": "code",
   "execution_count": 159,
   "id": "708851c6",
   "metadata": {},
   "outputs": [
    {
     "data": {
      "text/plain": [
       "{'MAE': 0.9827051, 'MSE': 1.7054207}"
      ]
     },
     "execution_count": 159,
     "metadata": {},
     "output_type": "execute_result"
    }
   ],
   "source": [
    "metrics"
   ]
  },
  {
   "cell_type": "code",
   "execution_count": null,
   "id": "5c79f1f6",
   "metadata": {},
   "outputs": [],
   "source": []
  }
 ],
 "metadata": {
  "kernelspec": {
   "display_name": "Python 3",
   "language": "python",
   "name": "python3"
  },
  "language_info": {
   "codemirror_mode": {
    "name": "ipython",
    "version": 3
   },
   "file_extension": ".py",
   "mimetype": "text/x-python",
   "name": "python",
   "nbconvert_exporter": "python",
   "pygments_lexer": "ipython3",
   "version": "3.7.1"
  }
 },
 "nbformat": 4,
 "nbformat_minor": 5
}
